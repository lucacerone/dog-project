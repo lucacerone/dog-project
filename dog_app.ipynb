{
 "cells": [
  {
   "cell_type": "markdown",
   "metadata": {},
   "source": [
    "# Artificial Intelligence Nanodegree\n",
    "\n",
    "## Convolutional Neural Networks\n",
    "\n",
    "## Project: Write an Algorithm for a Dog Identification App \n",
    "\n",
    "---\n",
    "\n",
    "In this notebook, some template code has already been provided for you, and you will need to implement additional functionality to successfully complete this project. You will not need to modify the included code beyond what is requested. Sections that begin with **'(IMPLEMENTATION)'** in the header indicate that the following block of code will require additional functionality which you must provide. Instructions will be provided for each section, and the specifics of the implementation are marked in the code block with a 'TODO' statement. Please be sure to read the instructions carefully! \n",
    "\n",
    "> **Note**: Once you have completed all of the code implementations, you need to finalize your work by exporting the iPython Notebook as an HTML document. Before exporting the notebook to html, all of the code cells need to have been run so that reviewers can see the final implementation and output. You can then export the notebook by using the menu above and navigating to  \\n\",\n",
    "    \"**File -> Download as -> HTML (.html)**. Include the finished document along with this notebook as your submission.\n",
    "\n",
    "In addition to implementing code, there will be questions that you must answer which relate to the project and your implementation. Each section where you will answer a question is preceded by a **'Question X'** header. Carefully read each question and provide thorough answers in the following text boxes that begin with **'Answer:'**. Your project submission will be evaluated based on your answers to each of the questions and the implementation you provide.\n",
    "\n",
    ">**Note:** Code and Markdown cells can be executed using the **Shift + Enter** keyboard shortcut.  Markdown cells can be edited by double-clicking the cell to enter edit mode.\n",
    "\n",
    "The rubric contains _optional_ \"Stand Out Suggestions\" for enhancing the project beyond the minimum requirements. If you decide to pursue the \"Stand Out Suggestions\", you should include the code in this IPython notebook.\n",
    "\n",
    "\n",
    "\n",
    "---\n",
    "### Why We're Here \n",
    "\n",
    "In this notebook, you will make the first steps towards developing an algorithm that could be used as part of a mobile or web app.  At the end of this project, your code will accept any user-supplied image as input.  If a dog is detected in the image, it will provide an estimate of the dog's breed.  If a human is detected, it will provide an estimate of the dog breed that is most resembling.  The image below displays potential sample output of your finished project (... but we expect that each student's algorithm will behave differently!). \n",
    "\n",
    "![Sample Dog Output](images/sample_dog_output.png)\n",
    "\n",
    "In this real-world setting, you will need to piece together a series of models to perform different tasks; for instance, the algorithm that detects humans in an image will be different from the CNN that infers dog breed.  There are many points of possible failure, and no perfect algorithm exists.  Your imperfect solution will nonetheless create a fun user experience!\n",
    "\n",
    "### The Road Ahead\n",
    "\n",
    "We break the notebook into separate steps.  Feel free to use the links below to navigate the notebook.\n",
    "\n",
    "* [Step 0](#step0): Import Datasets\n",
    "* [Step 1](#step1): Detect Humans\n",
    "* [Step 2](#step2): Detect Dogs\n",
    "* [Step 3](#step3): Create a CNN to Classify Dog Breeds (from Scratch)\n",
    "* [Step 4](#step4): Use a CNN to Classify Dog Breeds (using Transfer Learning)\n",
    "* [Step 5](#step5): Create a CNN to Classify Dog Breeds (using Transfer Learning)\n",
    "* [Step 6](#step6): Write your Algorithm\n",
    "* [Step 7](#step7): Test Your Algorithm\n",
    "\n",
    "---\n",
    "<a id='step0'></a>\n",
    "## Step 0: Import Datasets\n",
    "\n",
    "### Import Dog Dataset\n",
    "\n",
    "In the code cell below, we import a dataset of dog images.  We populate a few variables through the use of the `load_files` function from the scikit-learn library:\n",
    "- `train_files`, `valid_files`, `test_files` - numpy arrays containing file paths to images\n",
    "- `train_targets`, `valid_targets`, `test_targets` - numpy arrays containing onehot-encoded classification labels \n",
    "- `dog_names` - list of string-valued dog breed names for translating labels"
   ]
  },
  {
   "cell_type": "code",
   "execution_count": 1,
   "metadata": {},
   "outputs": [
    {
     "name": "stderr",
     "output_type": "stream",
     "text": [
      "Using TensorFlow backend.\n"
     ]
    },
    {
     "name": "stdout",
     "output_type": "stream",
     "text": [
      "There are 133 total dog categories.\n",
      "There are 8351 total dog images.\n",
      "\n",
      "There are 6680 training dog images.\n",
      "There are 835 validation dog images.\n",
      "There are 836 test dog images.\n"
     ]
    }
   ],
   "source": [
    "from sklearn.datasets import load_files       \n",
    "from keras.utils import np_utils\n",
    "import numpy as np\n",
    "from glob import glob\n",
    "\n",
    "# define function to load train, test, and validation datasets\n",
    "def load_dataset(path):\n",
    "    data = load_files(path)\n",
    "    dog_files = np.array(data['filenames'])\n",
    "    dog_targets = np_utils.to_categorical(np.array(data['target']), 133)\n",
    "    return dog_files, dog_targets\n",
    "\n",
    "# load train, test, and validation datasets\n",
    "train_files, train_targets = load_dataset('dogImages/train')\n",
    "valid_files, valid_targets = load_dataset('dogImages/valid')\n",
    "test_files, test_targets = load_dataset('dogImages/test')\n",
    "\n",
    "# load list of dog names\n",
    "dog_names = [item[20:-1] for item in sorted(glob(\"dogImages/train/*/\"))]\n",
    "\n",
    "# print statistics about the dataset\n",
    "print('There are %d total dog categories.' % len(dog_names))\n",
    "print('There are %s total dog images.\\n' % len(np.hstack([train_files, valid_files, test_files])))\n",
    "print('There are %d training dog images.' % len(train_files))\n",
    "print('There are %d validation dog images.' % len(valid_files))\n",
    "print('There are %d test dog images.'% len(test_files))"
   ]
  },
  {
   "cell_type": "markdown",
   "metadata": {},
   "source": [
    "### Import Human Dataset\n",
    "\n",
    "In the code cell below, we import a dataset of human images, where the file paths are stored in the numpy array `human_files`."
   ]
  },
  {
   "cell_type": "code",
   "execution_count": 2,
   "metadata": {},
   "outputs": [
    {
     "name": "stdout",
     "output_type": "stream",
     "text": [
      "There are 13233 total human images.\n"
     ]
    }
   ],
   "source": [
    "import random\n",
    "random.seed(8675309)\n",
    "\n",
    "# load filenames in shuffled human dataset\n",
    "human_files = np.array(glob(\"lfw/*/*\"))\n",
    "random.shuffle(human_files)\n",
    "\n",
    "# print statistics about the dataset\n",
    "print('There are %d total human images.' % len(human_files))"
   ]
  },
  {
   "cell_type": "markdown",
   "metadata": {},
   "source": [
    "---\n",
    "<a id='step1'></a>\n",
    "## Step 1: Detect Humans\n",
    "\n",
    "We use OpenCV's implementation of [Haar feature-based cascade classifiers](http://docs.opencv.org/trunk/d7/d8b/tutorial_py_face_detection.html) to detect human faces in images.  OpenCV provides many pre-trained face detectors, stored as XML files on [github](https://github.com/opencv/opencv/tree/master/data/haarcascades).  We have downloaded one of these detectors and stored it in the `haarcascades` directory.\n",
    "\n",
    "In the next code cell, we demonstrate how to use this detector to find human faces in a sample image."
   ]
  },
  {
   "cell_type": "code",
   "execution_count": 3,
   "metadata": {},
   "outputs": [
    {
     "name": "stdout",
     "output_type": "stream",
     "text": [
      "Number of faces detected: 1\n"
     ]
    },
    {
     "data": {
      "image/png": "[encoded data removed]",
      "text/plain": [
       "<matplotlib.figure.Figure at 0x7f8bcee5e860>"
      ]
     },
     "metadata": {},
     "output_type": "display_data"
    }
   ],
   "source": [
    "import cv2                \n",
    "import matplotlib.pyplot as plt                        \n",
    "%matplotlib inline                               \n",
    "\n",
    "# extract pre-trained face detector\n",
    "face_cascade = cv2.CascadeClassifier('haarcascades/haarcascade_frontalface_alt.xml')\n",
    "\n",
    "# load color (BGR) image\n",
    "img = cv2.imread(human_files[3])\n",
    "# convert BGR image to grayscale\n",
    "gray = cv2.cvtColor(img, cv2.COLOR_BGR2GRAY)\n",
    "\n",
    "# find faces in image\n",
    "faces = face_cascade.detectMultiScale(gray)\n",
    "\n",
    "# print number of faces detected in the image\n",
    "print('Number of faces detected:', len(faces))\n",
    "\n",
    "# get bounding box for each detected face\n",
    "for (x,y,w,h) in faces:\n",
    "    # add bounding box to color image\n",
    "    cv2.rectangle(img,(x,y),(x+w,y+h),(255,0,0),2)\n",
    "    \n",
    "# convert BGR image to RGB for plotting\n",
    "cv_rgb = cv2.cvtColor(img, cv2.COLOR_BGR2RGB)\n",
    "\n",
    "# display the image, along with bounding box\n",
    "plt.imshow(cv_rgb)\n",
    "plt.show()"
   ]
  },
  {
   "cell_type": "markdown",
   "metadata": {},
   "source": [
    "Before using any of the face detectors, it is standard procedure to convert the images to grayscale.  The `detectMultiScale` function executes the classifier stored in `face_cascade` and takes the grayscale image as a parameter.  \n",
    "\n",
    "In the above code, `faces` is a numpy array of detected faces, where each row corresponds to a detected face.  Each detected face is a 1D array with four entries that specifies the bounding box of the detected face.  The first two entries in the array (extracted in the above code as `x` and `y`) specify the horizontal and vertical positions of the top left corner of the bounding box.  The last two entries in the array (extracted here as `w` and `h`) specify the width and height of the box.\n",
    "\n",
    "### Write a Human Face Detector\n",
    "\n",
    "We can use this procedure to write a function that returns `True` if a human face is detected in an image and `False` otherwise.  This function, aptly named `face_detector`, takes a string-valued file path to an image as input and appears in the code block below."
   ]
  },
  {
   "cell_type": "code",
   "execution_count": 4,
   "metadata": {},
   "outputs": [],
   "source": [
    "# returns \"True\" if face is detected in image stored at img_path\n",
    "def face_detector(img_path):\n",
    "    img = cv2.imread(img_path)\n",
    "    gray = cv2.cvtColor(img, cv2.COLOR_BGR2GRAY)\n",
    "    faces = face_cascade.detectMultiScale(gray)\n",
    "    return len(faces) > 0"
   ]
  },
  {
   "cell_type": "markdown",
   "metadata": {},
   "source": [
    "### (IMPLEMENTATION) Assess the Human Face Detector\n",
    "\n",
    "__Question 1:__ Use the code cell below to test the performance of the `face_detector` function.  \n",
    "- What percentage of the first 100 images in `human_files` have a detected human face?  \n",
    "- What percentage of the first 100 images in `dog_files` have a detected human face? \n",
    "\n",
    "Ideally, we would like 100% of human images with a detected face and 0% of dog images with a detected face.  You will see that our algorithm falls short of this goal, but still gives acceptable performance.  We extract the file paths for the first 100 images from each of the datasets and store them in the numpy arrays `human_files_short` and `dog_files_short`.\n",
    "\n",
    "__Answer:__ Below I apply the face detector to each image and calculate the percentage of images for which a face was detected."
   ]
  },
  {
   "cell_type": "code",
   "execution_count": 5,
   "metadata": {},
   "outputs": [
    {
     "name": "stdout",
     "output_type": "stream",
     "text": [
      "Percentage human faces detected among human_files_short: 97.0\n",
      "Percentage human faces detected among dog_files_short: 11.0\n"
     ]
    }
   ],
   "source": [
    "human_files_short = human_files[:100]\n",
    "dog_files_short = train_files[:100]\n",
    "# Do NOT modify the code above this line.\n",
    "\n",
    "## TODO: Test the performance of the face_detector algorithm \n",
    "## on the images in human_files_short and dog_files_short.\n",
    "face_detected_human = np.array([1 if face_detector(fname) else 0 for fname in human_files_short])\n",
    "face_detected_dog = np.array([1 if face_detector(fname) else 0 for fname in dog_files_short])\n",
    "print(\"Percentage human faces detected among human_files_short:\", round(100*face_detected_human.sum() / len(face_detected_human),3))\n",
    "print(\"Percentage human faces detected among dog_files_short:\", round(100*face_detected_dog.sum() / len(face_detected_dog),3))"
   ]
  },
  {
   "cell_type": "markdown",
   "metadata": {},
   "source": [
    "__Question 2:__ This algorithmic choice necessitates that we communicate to the user that we accept human images only when they provide a clear view of a face (otherwise, we risk having unneccessarily frustrated users!). In your opinion, is this a reasonable expectation to pose on the user? If not, can you think of a way to detect humans in images that does not necessitate an image with a clearly presented face?\n",
    "\n",
    "__Answer:__ The experience for the user should be as smooth as possible; considering nowadays it is pretty easy taking a selfie, it does seem a reasonable choice to ask the user to submit an image with a clear face. \n",
    "\n",
    "To further increase the performances of the algorithm, one could try to train a classification model that detects human faces by augmenting the dataset with images where there are occlusions, out of focus images and so on to increase the scope of our apps.\n",
    "\n",
    "Also, rather than processing the whole image, one could pass the detector on small portions of the image and check whether there is some object in it that resembles a human face.\n",
    "\n",
    "We suggest the face detector from OpenCV as a potential way to detect human images in your algorithm, but you are free to explore other approaches, especially approaches that make use of deep learning :).  Please use the code cell below to design and test your own face detection algorithm.  If you decide to pursue this _optional_ task, report performance on each of the datasets."
   ]
  },
  {
   "cell_type": "code",
   "execution_count": 6,
   "metadata": {},
   "outputs": [],
   "source": [
    "## (Optional) TODO: Report the performance of another  \n",
    "## face detection algorithm on the LFW dataset\n",
    "### Feel free to use as many code cells as needed."
   ]
  },
  {
   "cell_type": "markdown",
   "metadata": {},
   "source": [
    "---\n",
    "<a id='step2'></a>\n",
    "## Step 2: Detect Dogs\n",
    "\n",
    "In this section, we use a pre-trained [ResNet-50](http://ethereon.github.io/netscope/#/gist/db945b393d40bfa26006) model to detect dogs in images.  Our first line of code downloads the ResNet-50 model, along with weights that have been trained on [ImageNet](http://www.image-net.org/), a very large, very popular dataset used for image classification and other vision tasks.  ImageNet contains over 10 million URLs, each linking to an image containing an object from one of [1000 categories](https://gist.github.com/yrevar/942d3a0ac09ec9e5eb3a).  Given an image, this pre-trained ResNet-50 model returns a prediction (derived from the available categories in ImageNet) for the object that is contained in the image."
   ]
  },
  {
   "cell_type": "code",
   "execution_count": 7,
   "metadata": {},
   "outputs": [],
   "source": [
    "from keras.applications.resnet50 import ResNet50\n",
    "\n",
    "# define ResNet50 model\n",
    "ResNet50_model = ResNet50(weights='imagenet')"
   ]
  },
  {
   "cell_type": "markdown",
   "metadata": {},
   "source": [
    "### Pre-process the Data\n",
    "\n",
    "When using TensorFlow as backend, Keras CNNs require a 4D array (which we'll also refer to as a 4D tensor) as input, with shape\n",
    "\n",
    "$$\n",
    "(\\text{nb_samples}, \\text{rows}, \\text{columns}, \\text{channels}),\n",
    "$$\n",
    "\n",
    "where `nb_samples` corresponds to the total number of images (or samples), and `rows`, `columns`, and `channels` correspond to the number of rows, columns, and channels for each image, respectively.  \n",
    "\n",
    "The `path_to_tensor` function below takes a string-valued file path to a color image as input and returns a 4D tensor suitable for supplying to a Keras CNN.  The function first loads the image and resizes it to a square image that is $224 \\times 224$ pixels.  Next, the image is converted to an array, which is then resized to a 4D tensor.  In this case, since we are working with color images, each image has three channels.  Likewise, since we are processing a single image (or sample), the returned tensor will always have shape\n",
    "\n",
    "$$\n",
    "(1, 224, 224, 3).\n",
    "$$\n",
    "\n",
    "The `paths_to_tensor` function takes a numpy array of string-valued image paths as input and returns a 4D tensor with shape \n",
    "\n",
    "$$\n",
    "(\\text{nb_samples}, 224, 224, 3).\n",
    "$$\n",
    "\n",
    "Here, `nb_samples` is the number of samples, or number of images, in the supplied array of image paths.  It is best to think of `nb_samples` as the number of 3D tensors (where each 3D tensor corresponds to a different image) in your dataset!"
   ]
  },
  {
   "cell_type": "code",
   "execution_count": 8,
   "metadata": {},
   "outputs": [],
   "source": [
    "from keras.preprocessing import image                  \n",
    "from tqdm import tqdm\n",
    "\n",
    "def path_to_tensor(img_path):\n",
    "    # loads RGB image as PIL.Image.Image type\n",
    "    img = image.load_img(img_path, target_size=(224, 224))\n",
    "    # convert PIL.Image.Image type to 3D tensor with shape (224, 224, 3)\n",
    "    x = image.img_to_array(img)\n",
    "    # convert 3D tensor to 4D tensor with shape (1, 224, 224, 3) and return 4D tensor\n",
    "    return np.expand_dims(x, axis=0)\n",
    "\n",
    "def paths_to_tensor(img_paths):\n",
    "    list_of_tensors = [path_to_tensor(img_path) for img_path in tqdm(img_paths)]\n",
    "    return np.vstack(list_of_tensors)"
   ]
  },
  {
   "cell_type": "markdown",
   "metadata": {},
   "source": [
    "### Making Predictions with ResNet-50\n",
    "\n",
    "Getting the 4D tensor ready for ResNet-50, and for any other pre-trained model in Keras, requires some additional processing.  First, the RGB image is converted to BGR by reordering the channels.  All pre-trained models have the additional normalization step that the mean pixel (expressed in RGB as $[103.939, 116.779, 123.68]$ and calculated from all pixels in all images in ImageNet) must be subtracted from every pixel in each image.  This is implemented in the imported function `preprocess_input`.  If you're curious, you can check the code for `preprocess_input` [here](https://github.com/fchollet/keras/blob/master/keras/applications/imagenet_utils.py).\n",
    "\n",
    "Now that we have a way to format our image for supplying to ResNet-50, we are now ready to use the model to extract the predictions.  This is accomplished with the `predict` method, which returns an array whose $i$-th entry is the model's predicted probability that the image belongs to the $i$-th ImageNet category.  This is implemented in the `ResNet50_predict_labels` function below.\n",
    "\n",
    "By taking the argmax of the predicted probability vector, we obtain an integer corresponding to the model's predicted object class, which we can identify with an object category through the use of this [dictionary](https://gist.github.com/yrevar/942d3a0ac09ec9e5eb3a). "
   ]
  },
  {
   "cell_type": "code",
   "execution_count": 9,
   "metadata": {},
   "outputs": [],
   "source": [
    "from keras.applications.resnet50 import preprocess_input, decode_predictions\n",
    "\n",
    "def ResNet50_predict_labels(img_path):\n",
    "    # returns prediction vector for image located at img_path\n",
    "    img = preprocess_input(path_to_tensor(img_path))\n",
    "    return np.argmax(ResNet50_model.predict(img))"
   ]
  },
  {
   "cell_type": "markdown",
   "metadata": {},
   "source": [
    "### Write a Dog Detector\n",
    "\n",
    "While looking at the [dictionary](https://gist.github.com/yrevar/942d3a0ac09ec9e5eb3a), you will notice that the categories corresponding to dogs appear in an uninterrupted sequence and correspond to dictionary keys 151-268, inclusive, to include all categories from `'Chihuahua'` to `'Mexican hairless'`.  Thus, in order to check to see if an image is predicted to contain a dog by the pre-trained ResNet-50 model, we need only check if the `ResNet50_predict_labels` function above returns a value between 151 and 268 (inclusive).\n",
    "\n",
    "We use these ideas to complete the `dog_detector` function below, which returns `True` if a dog is detected in an image (and `False` if not)."
   ]
  },
  {
   "cell_type": "code",
   "execution_count": 10,
   "metadata": {},
   "outputs": [],
   "source": [
    "### returns \"True\" if a dog is detected in the image stored at img_path\n",
    "def dog_detector(img_path):\n",
    "    prediction = ResNet50_predict_labels(img_path)\n",
    "    return ((prediction <= 268) & (prediction >= 151)) "
   ]
  },
  {
   "cell_type": "markdown",
   "metadata": {},
   "source": [
    "### (IMPLEMENTATION) Assess the Dog Detector\n",
    "\n",
    "__Question 3:__ Use the code cell below to test the performance of your `dog_detector` function.  \n",
    "- What percentage of the images in `human_files_short` have a detected dog?  \n",
    "- What percentage of the images in `dog_files_short` have a detected dog?\n",
    "\n",
    "__Answer:__ Similar to what I did above for the human face detector. It has to be noted that detecting dogs with ResNet50 is way slower than detecting human faces with Haar Cascades. "
   ]
  },
  {
   "cell_type": "code",
   "execution_count": 11,
   "metadata": {},
   "outputs": [
    {
     "name": "stdout",
     "output_type": "stream",
     "text": [
      "Percentage dogs detected among 'human_files_short': 4.0\n",
      "Percentage dogs detected among 'dog_files_short': 100.0\n"
     ]
    }
   ],
   "source": [
    "### TODO: Test the performance of the dog_detector function\n",
    "### on the images in human_files_short and dog_files_short.\n",
    "dog_detected_human = np.array([1 if dog_detector(fname) else 0 for fname in human_files_short])\n",
    "dog_detected_dog = np.array([1 if dog_detector(fname) else 0 for fname in dog_files_short])\n",
    "print(\"Percentage dogs detected among 'human_files_short':\", round(100*dog_detected_human.sum() / len(dog_detected_human),3))\n",
    "print(\"Percentage dogs detected among 'dog_files_short':\", round(100*dog_detected_dog.sum() / len(dog_detected_dog),3))"
   ]
  },
  {
   "cell_type": "markdown",
   "metadata": {},
   "source": [
    "---\n",
    "<a id='step3'></a>\n",
    "## Step 3: Create a CNN to Classify Dog Breeds (from Scratch)\n",
    "\n",
    "Now that we have functions for detecting humans and dogs in images, we need a way to predict breed from images.  In this step, you will create a CNN that classifies dog breeds.  You must create your CNN _from scratch_ (so, you can't use transfer learning _yet_!), and you must attain a test accuracy of at least 1%.  In Step 5 of this notebook, you will have the opportunity to use transfer learning to create a CNN that attains greatly improved accuracy.\n",
    "\n",
    "Be careful with adding too many trainable layers!  More parameters means longer training, which means you are more likely to need a GPU to accelerate the training process.  Thankfully, Keras provides a handy estimate of the time that each epoch is likely to take; you can extrapolate this estimate to figure out how long it will take for your algorithm to train. \n",
    "\n",
    "We mention that the task of assigning breed to dogs from images is considered exceptionally challenging.  To see why, consider that *even a human* would have great difficulty in distinguishing between a Brittany and a Welsh Springer Spaniel.  \n",
    "\n",
    "Brittany | Welsh Springer Spaniel\n",
    "- | - \n",
    "<img src=\"images/Brittany_02625.jpg\" width=\"100\"> | <img src=\"images/Welsh_springer_spaniel_08203.jpg\" width=\"200\">\n",
    "\n",
    "It is not difficult to find other dog breed pairs with minimal inter-class variation (for instance, Curly-Coated Retrievers and American Water Spaniels).  \n",
    "\n",
    "Curly-Coated Retriever | American Water Spaniel\n",
    "- | -\n",
    "<img src=\"images/Curly-coated_retriever_03896.jpg\" width=\"200\"> | <img src=\"images/American_water_spaniel_00648.jpg\" width=\"200\">\n",
    "\n",
    "\n",
    "Likewise, recall that labradors come in yellow, chocolate, and black.  Your vision-based algorithm will have to conquer this high intra-class variation to determine how to classify all of these different shades as the same breed.  \n",
    "\n",
    "Yellow Labrador | Chocolate Labrador | Black Labrador\n",
    "- | -\n",
    "<img src=\"images/Labrador_retriever_06457.jpg\" width=\"150\"> | <img src=\"images/Labrador_retriever_06455.jpg\" width=\"240\"> | <img src=\"images/Labrador_retriever_06449.jpg\" width=\"220\">\n",
    "\n",
    "We also mention that random chance presents an exceptionally low bar: setting aside the fact that the classes are slightly imabalanced, a random guess will provide a correct answer roughly 1 in 133 times, which corresponds to an accuracy of less than 1%.  \n",
    "\n",
    "Remember that the practice is far ahead of the theory in deep learning.  Experiment with many different architectures, and trust your intuition.  And, of course, have fun! \n",
    "\n",
    "### Pre-process the Data\n",
    "\n",
    "We rescale the images by dividing every pixel in every image by 255."
   ]
  },
  {
   "cell_type": "code",
   "execution_count": 12,
   "metadata": {},
   "outputs": [
    {
     "name": "stderr",
     "output_type": "stream",
     "text": [
      "100%|██████████| 6680/6680 [00:52<00:00, 126.42it/s]\n",
      "100%|██████████| 835/835 [00:11<00:00, 72.86it/s]\n",
      "100%|██████████| 836/836 [00:06<00:00, 123.19it/s]\n"
     ]
    }
   ],
   "source": [
    "from PIL import ImageFile                            \n",
    "ImageFile.LOAD_TRUNCATED_IMAGES = True                 \n",
    "\n",
    "# pre-process the data for Keras\n",
    "train_tensors = paths_to_tensor(train_files).astype('float32')/255\n",
    "valid_tensors = paths_to_tensor(valid_files).astype('float32')/255\n",
    "test_tensors = paths_to_tensor(test_files).astype('float32')/255"
   ]
  },
  {
   "cell_type": "markdown",
   "metadata": {},
   "source": [
    "### (IMPLEMENTATION) Model Architecture\n",
    "\n",
    "Create a CNN to classify dog breed.  At the end of your code cell block, summarize the layers of your model by executing the line:\n",
    "    \n",
    "        model.summary()\n",
    "\n",
    "We have imported some Python modules to get you started, but feel free to import as many modules as you need.  If you end up getting stuck, here's a hint that specifies a model that trains relatively fast on CPU and attains >1% test accuracy in 5 epochs:\n",
    "\n",
    "![Sample CNN](images/sample_cnn.png)\n",
    "           \n",
    "__Question 4:__ Outline the steps you took to get to your final CNN architecture and your reasoning at each step.  If you chose to use the hinted architecture above, describe why you think that CNN architecture should work well for the image classification task.\n",
    "\n",
    "__Answer:__ \n",
    "First of all I run a series of test on a very reduced portion of the dataset (500 images for training, 100 for validation and 100 for testing), which I haven't included in the final report. With these tests I wanted to be sure that the layers had the size I expected, that I could apply correctly the various types of layers etc.\n",
    "\n",
    "My approach has been to keep things as simple as possible, building on the steps I learnt while training the CIFAR-10 dataset.\n",
    "In the first layer I used 32 very small filters. "
   ]
  },
  {
   "cell_type": "code",
   "execution_count": 13,
   "metadata": {},
   "outputs": [
    {
     "name": "stdout",
     "output_type": "stream",
     "text": [
      "_________________________________________________________________\n",
      "Layer (type)                 Output Shape              Param #   \n",
      "=================================================================\n",
      "conv2d_1 (Conv2D)            (None, 224, 224, 16)      208       \n",
      "_________________________________________________________________\n",
      "max_pooling2d_2 (MaxPooling2 (None, 112, 112, 16)      0         \n",
      "_________________________________________________________________\n",
      "conv2d_2 (Conv2D)            (None, 56, 56, 32)        2080      \n",
      "_________________________________________________________________\n",
      "max_pooling2d_3 (MaxPooling2 (None, 28, 28, 32)        0         \n",
      "_________________________________________________________________\n",
      "conv2d_3 (Conv2D)            (None, 14, 14, 64)        8256      \n",
      "_________________________________________________________________\n",
      "max_pooling2d_4 (MaxPooling2 (None, 7, 7, 64)          0         \n",
      "_________________________________________________________________\n",
      "dropout_1 (Dropout)          (None, 7, 7, 64)          0         \n",
      "_________________________________________________________________\n",
      "global_average_pooling2d_1 ( (None, 64)                0         \n",
      "_________________________________________________________________\n",
      "dropout_2 (Dropout)          (None, 64)                0         \n",
      "_________________________________________________________________\n",
      "dense_1 (Dense)              (None, 133)               8645      \n",
      "=================================================================\n",
      "Total params: 19,189\n",
      "Trainable params: 19,189\n",
      "Non-trainable params: 0\n",
      "_________________________________________________________________\n"
     ]
    }
   ],
   "source": [
    "from keras.layers import Conv2D, MaxPooling2D, GlobalAveragePooling2D\n",
    "from keras.layers import Dropout, Flatten, Dense\n",
    "from keras.models import Sequential\n",
    "\n",
    "model = Sequential()\n",
    "\n",
    "### TODO: Define your architecture.\n",
    "model.add(Conv2D(filters=16, kernel_size=2, strides = 1, padding='same', activation='relu', \n",
    "                        input_shape=train_tensors[0].shape))\n",
    "model.add(MaxPooling2D(pool_size=2))\n",
    "model.add(Conv2D(filters=32, kernel_size=2, strides = 2, padding='same', activation='relu', \n",
    "                        input_shape=train_tensors[0].shape))\n",
    "model.add(MaxPooling2D(pool_size=2))\n",
    "model.add(Conv2D(filters=64, kernel_size=2, strides = 2, padding='same', activation='relu', \n",
    "                        input_shape=train_tensors[0].shape))\n",
    "model.add(MaxPooling2D(pool_size=2))\n",
    "model.add(Dropout(0.5))\n",
    "model.add(GlobalAveragePooling2D())\n",
    "model.add(Dropout(0.2))\n",
    "model.add(Dense(train_targets.shape[1], activation='softmax'))\n",
    "\n",
    "\n",
    "model.summary()"
   ]
  },
  {
   "cell_type": "markdown",
   "metadata": {},
   "source": [
    "### Compile the Model"
   ]
  },
  {
   "cell_type": "code",
   "execution_count": null,
   "metadata": {},
   "outputs": [],
   "source": [
    "model.compile(optimizer='adam', loss='categorical_crossentropy', metrics=['accuracy'])"
   ]
  },
  {
   "cell_type": "markdown",
   "metadata": {},
   "source": [
    "### (IMPLEMENTATION) Train the Model\n",
    "\n",
    "Train your model in the code cell below.  Use model checkpointing to save the model that attains the best validation loss.\n",
    "\n",
    "You are welcome to [augment the training data](https://blog.keras.io/building-powerful-image-classification-models-using-very-little-data.html), but this is not a requirement. "
   ]
  },
  {
   "cell_type": "code",
   "execution_count": null,
   "metadata": {},
   "outputs": [
    {
     "name": "stdout",
     "output_type": "stream",
     "text": [
      "Train on 6680 samples, validate on 835 samples\n",
      "Epoch 1/250\n",
      "6656/6680 [============================>.] - ETA: 0s - loss: 4.8875 - acc: 0.0078Epoch 00001: val_loss improved from inf to 4.87941, saving model to saved_models/weights.best.from_scratch.hdf5\n",
      "6680/6680 [==============================] - 108s 16ms/step - loss: 4.8875 - acc: 0.0079 - val_loss: 4.8794 - val_acc: 0.0120\n",
      "Epoch 2/250\n",
      "6656/6680 [============================>.] - ETA: 0s - loss: 4.8763 - acc: 0.0114Epoch 00002: val_loss improved from 4.87941 to 4.86960, saving model to saved_models/weights.best.from_scratch.hdf5\n",
      "6680/6680 [==============================] - 106s 16ms/step - loss: 4.8764 - acc: 0.0114 - val_loss: 4.8696 - val_acc: 0.0108\n",
      "Epoch 3/250\n",
      "6656/6680 [============================>.] - ETA: 0s - loss: 4.8682 - acc: 0.0111Epoch 00003: val_loss improved from 4.86960 to 4.86429, saving model to saved_models/weights.best.from_scratch.hdf5\n",
      "6680/6680 [==============================] - 107s 16ms/step - loss: 4.8682 - acc: 0.0111 - val_loss: 4.8643 - val_acc: 0.0180\n",
      "Epoch 4/250\n",
      "6656/6680 [============================>.] - ETA: 0s - loss: 4.8602 - acc: 0.0117Epoch 00004: val_loss improved from 4.86429 to 4.85517, saving model to saved_models/weights.best.from_scratch.hdf5\n",
      "6680/6680 [==============================] - 107s 16ms/step - loss: 4.8602 - acc: 0.0117 - val_loss: 4.8552 - val_acc: 0.0168\n",
      "Epoch 5/250\n",
      "6656/6680 [============================>.] - ETA: 0s - loss: 4.8408 - acc: 0.0176Epoch 00005: val_loss improved from 4.85517 to 4.83030, saving model to saved_models/weights.best.from_scratch.hdf5\n",
      "6680/6680 [==============================] - 108s 16ms/step - loss: 4.8406 - acc: 0.0177 - val_loss: 4.8303 - val_acc: 0.0216\n",
      "Epoch 6/250\n",
      "6656/6680 [============================>.] - ETA: 0s - loss: 4.8100 - acc: 0.0183Epoch 00006: val_loss improved from 4.83030 to 4.79866, saving model to saved_models/weights.best.from_scratch.hdf5\n",
      "6680/6680 [==============================] - 108s 16ms/step - loss: 4.8097 - acc: 0.0186 - val_loss: 4.7987 - val_acc: 0.0144\n",
      "Epoch 7/250\n",
      "6656/6680 [============================>.] - ETA: 0s - loss: 4.7790 - acc: 0.0200Epoch 00007: val_loss improved from 4.79866 to 4.77522, saving model to saved_models/weights.best.from_scratch.hdf5\n",
      "6680/6680 [==============================] - 108s 16ms/step - loss: 4.7783 - acc: 0.0202 - val_loss: 4.7752 - val_acc: 0.0204\n",
      "Epoch 8/250\n",
      "6656/6680 [============================>.] - ETA: 0s - loss: 4.7551 - acc: 0.0212Epoch 00008: val_loss improved from 4.77522 to 4.75827, saving model to saved_models/weights.best.from_scratch.hdf5\n",
      "6680/6680 [==============================] - 109s 16ms/step - loss: 4.7552 - acc: 0.0213 - val_loss: 4.7583 - val_acc: 0.0251\n",
      "Epoch 9/250\n",
      "6656/6680 [============================>.] - ETA: 0s - loss: 4.7373 - acc: 0.0218Epoch 00009: val_loss improved from 4.75827 to 4.74999, saving model to saved_models/weights.best.from_scratch.hdf5\n",
      "6680/6680 [==============================] - 109s 16ms/step - loss: 4.7372 - acc: 0.0217 - val_loss: 4.7500 - val_acc: 0.0263\n",
      "Epoch 10/250\n",
      "6656/6680 [============================>.] - ETA: 0s - loss: 4.7185 - acc: 0.0263Epoch 00010: val_loss improved from 4.74999 to 4.73922, saving model to saved_models/weights.best.from_scratch.hdf5\n",
      "6680/6680 [==============================] - 108s 16ms/step - loss: 4.7187 - acc: 0.0263 - val_loss: 4.7392 - val_acc: 0.0216\n",
      "Epoch 11/250\n",
      "6656/6680 [============================>.] - ETA: 0s - loss: 4.7034 - acc: 0.0249Epoch 00011: val_loss improved from 4.73922 to 4.73014, saving model to saved_models/weights.best.from_scratch.hdf5\n",
      "6680/6680 [==============================] - 109s 16ms/step - loss: 4.7036 - acc: 0.0250 - val_loss: 4.7301 - val_acc: 0.0192\n",
      "Epoch 12/250\n",
      "6656/6680 [============================>.] - ETA: 0s - loss: 4.6973 - acc: 0.0236Epoch 00012: val_loss improved from 4.73014 to 4.72464, saving model to saved_models/weights.best.from_scratch.hdf5\n",
      "6680/6680 [==============================] - 108s 16ms/step - loss: 4.6973 - acc: 0.0238 - val_loss: 4.7246 - val_acc: 0.0275\n",
      "Epoch 13/250\n",
      "6656/6680 [============================>.] - ETA: 0s - loss: 4.6908 - acc: 0.0297Epoch 00013: val_loss improved from 4.72464 to 4.71846, saving model to saved_models/weights.best.from_scratch.hdf5\n",
      "6680/6680 [==============================] - 109s 16ms/step - loss: 4.6911 - acc: 0.0296 - val_loss: 4.7185 - val_acc: 0.0228\n",
      "Epoch 14/250\n",
      "6656/6680 [============================>.] - ETA: 0s - loss: 4.6769 - acc: 0.0281Epoch 00014: val_loss did not improve\n",
      "6680/6680 [==============================] - 108s 16ms/step - loss: 4.6772 - acc: 0.0280 - val_loss: 4.7186 - val_acc: 0.0216\n",
      "Epoch 15/250\n",
      "6656/6680 [============================>.] - ETA: 0s - loss: 4.6721 - acc: 0.0270Epoch 00015: val_loss improved from 4.71846 to 4.71072, saving model to saved_models/weights.best.from_scratch.hdf5\n",
      "6680/6680 [==============================] - 109s 16ms/step - loss: 4.6720 - acc: 0.0271 - val_loss: 4.7107 - val_acc: 0.0228\n",
      "Epoch 16/250\n",
      "6656/6680 [============================>.] - ETA: 0s - loss: 4.6623 - acc: 0.0285Epoch 00016: val_loss improved from 4.71072 to 4.70513, saving model to saved_models/weights.best.from_scratch.hdf5\n",
      "6680/6680 [==============================] - 109s 16ms/step - loss: 4.6625 - acc: 0.0284 - val_loss: 4.7051 - val_acc: 0.0228\n",
      "Epoch 17/250\n",
      "6656/6680 [============================>.] - ETA: 0s - loss: 4.6519 - acc: 0.0299Epoch 00017: val_loss improved from 4.70513 to 4.69551, saving model to saved_models/weights.best.from_scratch.hdf5\n",
      "6680/6680 [==============================] - 108s 16ms/step - loss: 4.6517 - acc: 0.0299 - val_loss: 4.6955 - val_acc: 0.0287\n",
      "Epoch 18/250\n",
      "6656/6680 [============================>.] - ETA: 0s - loss: 4.6462 - acc: 0.0302Epoch 00018: val_loss improved from 4.69551 to 4.69295, saving model to saved_models/weights.best.from_scratch.hdf5\n",
      "6680/6680 [==============================] - 109s 16ms/step - loss: 4.6471 - acc: 0.0301 - val_loss: 4.6929 - val_acc: 0.0275\n",
      "Epoch 19/250\n",
      "6656/6680 [============================>.] - ETA: 0s - loss: 4.6288 - acc: 0.0328Epoch 00019: val_loss improved from 4.69295 to 4.68476, saving model to saved_models/weights.best.from_scratch.hdf5\n",
      "6680/6680 [==============================] - 109s 16ms/step - loss: 4.6292 - acc: 0.0326 - val_loss: 4.6848 - val_acc: 0.0311\n",
      "Epoch 20/250\n",
      "6656/6680 [============================>.] - ETA: 0s - loss: 4.6308 - acc: 0.0288Epoch 00020: val_loss improved from 4.68476 to 4.68087, saving model to saved_models/weights.best.from_scratch.hdf5\n",
      "6680/6680 [==============================] - 108s 16ms/step - loss: 4.6301 - acc: 0.0287 - val_loss: 4.6809 - val_acc: 0.0311\n",
      "Epoch 21/250\n",
      "6656/6680 [============================>.] - ETA: 0s - loss: 4.6206 - acc: 0.0332Epoch 00021: val_loss improved from 4.68087 to 4.67033, saving model to saved_models/weights.best.from_scratch.hdf5\n",
      "6680/6680 [==============================] - 109s 16ms/step - loss: 4.6205 - acc: 0.0331 - val_loss: 4.6703 - val_acc: 0.0371\n",
      "Epoch 22/250\n",
      "6656/6680 [============================>.] - ETA: 0s - loss: 4.6060 - acc: 0.0346Epoch 00022: val_loss improved from 4.67033 to 4.65992, saving model to saved_models/weights.best.from_scratch.hdf5\n",
      "6680/6680 [==============================] - 108s 16ms/step - loss: 4.6059 - acc: 0.0347 - val_loss: 4.6599 - val_acc: 0.0335\n",
      "Epoch 23/250\n",
      "6656/6680 [============================>.] - ETA: 0s - loss: 4.5946 - acc: 0.0350Epoch 00023: val_loss improved from 4.65992 to 4.65695, saving model to saved_models/weights.best.from_scratch.hdf5\n",
      "6680/6680 [==============================] - 109s 16ms/step - loss: 4.5950 - acc: 0.0349 - val_loss: 4.6569 - val_acc: 0.0359\n",
      "Epoch 24/250\n",
      "6656/6680 [============================>.] - ETA: 0s - loss: 4.5831 - acc: 0.0368Epoch 00024: val_loss improved from 4.65695 to 4.65104, saving model to saved_models/weights.best.from_scratch.hdf5\n",
      "6680/6680 [==============================] - 108s 16ms/step - loss: 4.5834 - acc: 0.0367 - val_loss: 4.6510 - val_acc: 0.0359\n",
      "Epoch 25/250\n",
      "6656/6680 [============================>.] - ETA: 0s - loss: 4.5828 - acc: 0.0377Epoch 00025: val_loss improved from 4.65104 to 4.63231, saving model to saved_models/weights.best.from_scratch.hdf5\n",
      "6680/6680 [==============================] - 108s 16ms/step - loss: 4.5823 - acc: 0.0379 - val_loss: 4.6323 - val_acc: 0.0371\n"
     ]
    },
    {
     "name": "stdout",
     "output_type": "stream",
     "text": [
      "Epoch 26/250\n",
      "6656/6680 [============================>.] - ETA: 0s - loss: 4.5670 - acc: 0.0389Epoch 00026: val_loss improved from 4.63231 to 4.62361, saving model to saved_models/weights.best.from_scratch.hdf5\n",
      "6680/6680 [==============================] - 108s 16ms/step - loss: 4.5667 - acc: 0.0392 - val_loss: 4.6236 - val_acc: 0.0419\n",
      "Epoch 27/250\n",
      "6656/6680 [============================>.] - ETA: 0s - loss: 4.5537 - acc: 0.0412Epoch 00027: val_loss improved from 4.62361 to 4.60720, saving model to saved_models/weights.best.from_scratch.hdf5\n",
      "6680/6680 [==============================] - 108s 16ms/step - loss: 4.5534 - acc: 0.0412 - val_loss: 4.6072 - val_acc: 0.0395\n",
      "Epoch 28/250\n",
      "6656/6680 [============================>.] - ETA: 0s - loss: 4.5462 - acc: 0.0404Epoch 00028: val_loss improved from 4.60720 to 4.59893, saving model to saved_models/weights.best.from_scratch.hdf5\n",
      "6680/6680 [==============================] - 108s 16ms/step - loss: 4.5460 - acc: 0.0406 - val_loss: 4.5989 - val_acc: 0.0407\n",
      "Epoch 29/250\n",
      "6656/6680 [============================>.] - ETA: 0s - loss: 4.5249 - acc: 0.0448Epoch 00029: val_loss improved from 4.59893 to 4.58566, saving model to saved_models/weights.best.from_scratch.hdf5\n",
      "6680/6680 [==============================] - 108s 16ms/step - loss: 4.5257 - acc: 0.0446 - val_loss: 4.5857 - val_acc: 0.0407\n",
      "Epoch 30/250\n",
      "6656/6680 [============================>.] - ETA: 0s - loss: 4.5241 - acc: 0.0481Epoch 00030: val_loss improved from 4.58566 to 4.57090, saving model to saved_models/weights.best.from_scratch.hdf5\n",
      "6680/6680 [==============================] - 108s 16ms/step - loss: 4.5237 - acc: 0.0484 - val_loss: 4.5709 - val_acc: 0.0479\n",
      "Epoch 31/250\n",
      "6656/6680 [============================>.] - ETA: 0s - loss: 4.4993 - acc: 0.0485Epoch 00031: val_loss improved from 4.57090 to 4.55973, saving model to saved_models/weights.best.from_scratch.hdf5\n",
      "6680/6680 [==============================] - 108s 16ms/step - loss: 4.4998 - acc: 0.0485 - val_loss: 4.5597 - val_acc: 0.0479\n",
      "Epoch 32/250\n",
      "6656/6680 [============================>.] - ETA: 0s - loss: 4.4932 - acc: 0.0491Epoch 00032: val_loss improved from 4.55973 to 4.55523, saving model to saved_models/weights.best.from_scratch.hdf5\n",
      "6680/6680 [==============================] - 110s 16ms/step - loss: 4.4934 - acc: 0.0490 - val_loss: 4.5552 - val_acc: 0.0467\n",
      "Epoch 33/250\n",
      "6656/6680 [============================>.] - ETA: 0s - loss: 4.4856 - acc: 0.0466Epoch 00033: val_loss improved from 4.55523 to 4.54015, saving model to saved_models/weights.best.from_scratch.hdf5\n",
      "6680/6680 [==============================] - 108s 16ms/step - loss: 4.4844 - acc: 0.0469 - val_loss: 4.5401 - val_acc: 0.0491\n",
      "Epoch 34/250\n",
      "6656/6680 [============================>.] - ETA: 0s - loss: 4.4657 - acc: 0.0487Epoch 00034: val_loss improved from 4.54015 to 4.52858, saving model to saved_models/weights.best.from_scratch.hdf5\n",
      "6680/6680 [==============================] - 108s 16ms/step - loss: 4.4658 - acc: 0.0485 - val_loss: 4.5286 - val_acc: 0.0491\n",
      "Epoch 35/250\n",
      "6656/6680 [============================>.] - ETA: 0s - loss: 4.4514 - acc: 0.0541Epoch 00035: val_loss improved from 4.52858 to 4.51980, saving model to saved_models/weights.best.from_scratch.hdf5\n",
      "6680/6680 [==============================] - 109s 16ms/step - loss: 4.4508 - acc: 0.0545 - val_loss: 4.5198 - val_acc: 0.0515\n",
      "Epoch 36/250\n",
      "6656/6680 [============================>.] - ETA: 0s - loss: 4.4366 - acc: 0.0529Epoch 00036: val_loss improved from 4.51980 to 4.51588, saving model to saved_models/weights.best.from_scratch.hdf5\n",
      "6680/6680 [==============================] - 109s 16ms/step - loss: 4.4376 - acc: 0.0527 - val_loss: 4.5159 - val_acc: 0.0455\n",
      "Epoch 37/250\n",
      "6656/6680 [============================>.] - ETA: 0s - loss: 4.4248 - acc: 0.0575Epoch 00037: val_loss improved from 4.51588 to 4.49603, saving model to saved_models/weights.best.from_scratch.hdf5\n",
      "6680/6680 [==============================] - 109s 16ms/step - loss: 4.4250 - acc: 0.0576 - val_loss: 4.4960 - val_acc: 0.0479\n",
      "Epoch 38/250\n",
      "6656/6680 [============================>.] - ETA: 0s - loss: 4.4159 - acc: 0.0556Epoch 00038: val_loss improved from 4.49603 to 4.48613, saving model to saved_models/weights.best.from_scratch.hdf5\n",
      "6680/6680 [==============================] - 109s 16ms/step - loss: 4.4156 - acc: 0.0555 - val_loss: 4.4861 - val_acc: 0.0527\n",
      "Epoch 39/250\n",
      "6656/6680 [============================>.] - ETA: 0s - loss: 4.4039 - acc: 0.0598Epoch 00039: val_loss improved from 4.48613 to 4.47615, saving model to saved_models/weights.best.from_scratch.hdf5\n",
      "6680/6680 [==============================] - 109s 16ms/step - loss: 4.4047 - acc: 0.0596 - val_loss: 4.4762 - val_acc: 0.0563\n",
      "Epoch 40/250\n",
      "6656/6680 [============================>.] - ETA: 0s - loss: 4.3982 - acc: 0.0572Epoch 00040: val_loss improved from 4.47615 to 4.46361, saving model to saved_models/weights.best.from_scratch.hdf5\n",
      "6680/6680 [==============================] - 109s 16ms/step - loss: 4.3979 - acc: 0.0573 - val_loss: 4.4636 - val_acc: 0.0527\n",
      "Epoch 41/250\n",
      "6656/6680 [============================>.] - ETA: 0s - loss: 4.3867 - acc: 0.0598Epoch 00041: val_loss improved from 4.46361 to 4.45721, saving model to saved_models/weights.best.from_scratch.hdf5\n",
      "6680/6680 [==============================] - 109s 16ms/step - loss: 4.3867 - acc: 0.0597 - val_loss: 4.4572 - val_acc: 0.0527\n",
      "Epoch 42/250\n",
      "6656/6680 [============================>.] - ETA: 0s - loss: 4.3784 - acc: 0.0587Epoch 00042: val_loss improved from 4.45721 to 4.44487, saving model to saved_models/weights.best.from_scratch.hdf5\n",
      "6680/6680 [==============================] - 109s 16ms/step - loss: 4.3787 - acc: 0.0587 - val_loss: 4.4449 - val_acc: 0.0611\n",
      "Epoch 43/250\n",
      "6656/6680 [============================>.] - ETA: 0s - loss: 4.3473 - acc: 0.0607Epoch 00043: val_loss improved from 4.44487 to 4.43832, saving model to saved_models/weights.best.from_scratch.hdf5\n",
      "6680/6680 [==============================] - 109s 16ms/step - loss: 4.3468 - acc: 0.0605 - val_loss: 4.4383 - val_acc: 0.0515\n",
      "Epoch 44/250\n",
      "6656/6680 [============================>.] - ETA: 0s - loss: 4.3574 - acc: 0.0587Epoch 00044: val_loss improved from 4.43832 to 4.43528, saving model to saved_models/weights.best.from_scratch.hdf5\n",
      "6680/6680 [==============================] - 109s 16ms/step - loss: 4.3571 - acc: 0.0590 - val_loss: 4.4353 - val_acc: 0.0635\n",
      "Epoch 45/250\n",
      "6656/6680 [============================>.] - ETA: 0s - loss: 4.3315 - acc: 0.0625Epoch 00045: val_loss improved from 4.43528 to 4.41672, saving model to saved_models/weights.best.from_scratch.hdf5\n",
      "6680/6680 [==============================] - 109s 16ms/step - loss: 4.3311 - acc: 0.0626 - val_loss: 4.4167 - val_acc: 0.0575\n",
      "Epoch 46/250\n",
      "6656/6680 [============================>.] - ETA: 0s - loss: 4.3297 - acc: 0.0639Epoch 00046: val_loss improved from 4.41672 to 4.41406, saving model to saved_models/weights.best.from_scratch.hdf5\n",
      "6680/6680 [==============================] - 110s 16ms/step - loss: 4.3292 - acc: 0.0639 - val_loss: 4.4141 - val_acc: 0.0551\n",
      "Epoch 47/250\n",
      "6656/6680 [============================>.] - ETA: 0s - loss: 4.3177 - acc: 0.0633Epoch 00047: val_loss improved from 4.41406 to 4.39954, saving model to saved_models/weights.best.from_scratch.hdf5\n",
      "6680/6680 [==============================] - 109s 16ms/step - loss: 4.3170 - acc: 0.0632 - val_loss: 4.3995 - val_acc: 0.0671\n",
      "Epoch 48/250\n",
      "6656/6680 [============================>.] - ETA: 0s - loss: 4.3135 - acc: 0.0669Epoch 00048: val_loss did not improve\n",
      "6680/6680 [==============================] - 109s 16ms/step - loss: 4.3133 - acc: 0.0671 - val_loss: 4.4001 - val_acc: 0.0635\n",
      "Epoch 49/250\n",
      "6656/6680 [============================>.] - ETA: 0s - loss: 4.2950 - acc: 0.0706Epoch 00049: val_loss improved from 4.39954 to 4.38310, saving model to saved_models/weights.best.from_scratch.hdf5\n",
      "6680/6680 [==============================] - 110s 16ms/step - loss: 4.2952 - acc: 0.0704 - val_loss: 4.3831 - val_acc: 0.0659\n",
      "Epoch 50/250\n",
      "6656/6680 [============================>.] - ETA: 0s - loss: 4.2828 - acc: 0.0727Epoch 00050: val_loss did not improve\n",
      "6680/6680 [==============================] - 111s 17ms/step - loss: 4.2826 - acc: 0.0732 - val_loss: 4.3884 - val_acc: 0.0635\n"
     ]
    },
    {
     "name": "stdout",
     "output_type": "stream",
     "text": [
      "Epoch 51/250\n",
      "4608/6680 [===================>..........] - ETA: 33s - loss: 4.2756 - acc: 0.0673"
     ]
    }
   ],
   "source": [
    "current_model = 'saved_models/weights.best.from_scratch.hdf5'\n",
    "\n",
    "from keras.callbacks import ModelCheckpoint  \n",
    "\n",
    "### TODO: specify the number of epochs that you would like to use to train the model.\n",
    "\n",
    "epochs = 250\n",
    "\n",
    "### Do NOT modify the code below this line.\n",
    "\n",
    "checkpointer = ModelCheckpoint(filepath=current_model, \n",
    "                               verbose=1, save_best_only=True)\n",
    "\n",
    "model.fit(train_tensors, train_targets, \n",
    "          validation_data=(valid_tensors, valid_targets),\n",
    "          epochs=epochs, batch_size=128, callbacks=[checkpointer], verbose=1)"
   ]
  },
  {
   "cell_type": "markdown",
   "metadata": {},
   "source": [
    "### Load the Model with the Best Validation Loss"
   ]
  },
  {
   "cell_type": "code",
   "execution_count": null,
   "metadata": {},
   "outputs": [],
   "source": [
    "model.load_weights(current_model)"
   ]
  },
  {
   "cell_type": "markdown",
   "metadata": {},
   "source": [
    "### Test the Model\n",
    "\n",
    "Try out your model on the test dataset of dog images.  Ensure that your test accuracy is greater than 1%."
   ]
  },
  {
   "cell_type": "code",
   "execution_count": null,
   "metadata": {},
   "outputs": [],
   "source": [
    "# get index of predicted dog breed for each image in test set\n",
    "dog_breed_predictions = [np.argmax(model.predict(np.expand_dims(tensor, axis=0))) for tensor in test_tensors]\n",
    "\n",
    "# report test accuracy\n",
    "test_accuracy = 100*np.sum(np.array(dog_breed_predictions)==np.argmax(test_targets, axis=1))/len(dog_breed_predictions)\n",
    "print('Test accuracy: %.4f%%' % test_accuracy)"
   ]
  },
  {
   "cell_type": "markdown",
   "metadata": {},
   "source": [
    "---\n",
    "<a id='step4'></a>\n",
    "## Step 4: Use a CNN to Classify Dog Breeds\n",
    "\n",
    "To reduce training time without sacrificing accuracy, we show you how to train a CNN using transfer learning.  In the following step, you will get a chance to use transfer learning to train your own CNN.\n",
    "\n",
    "### Obtain Bottleneck Features"
   ]
  },
  {
   "cell_type": "code",
   "execution_count": null,
   "metadata": {},
   "outputs": [],
   "source": [
    "bottleneck_features = np.load('bottleneck_features/DogVGG16Data.npz')\n",
    "train_VGG16 = bottleneck_features['train']\n",
    "valid_VGG16 = bottleneck_features['valid']\n",
    "test_VGG16 = bottleneck_features['test']"
   ]
  },
  {
   "cell_type": "markdown",
   "metadata": {},
   "source": [
    "### Model Architecture\n",
    "\n",
    "The model uses the the pre-trained VGG-16 model as a fixed feature extractor, where the last convolutional output of VGG-16 is fed as input to our model.  We only add a global average pooling layer and a fully connected layer, where the latter contains one node for each dog category and is equipped with a softmax."
   ]
  },
  {
   "cell_type": "code",
   "execution_count": null,
   "metadata": {},
   "outputs": [],
   "source": [
    "VGG16_model = Sequential()\n",
    "VGG16_model.add(GlobalAveragePooling2D(input_shape=train_VGG16.shape[1:]))\n",
    "VGG16_model.add(Dense(133, activation='softmax'))\n",
    "\n",
    "VGG16_model.summary()"
   ]
  },
  {
   "cell_type": "markdown",
   "metadata": {},
   "source": [
    "### Compile the Model"
   ]
  },
  {
   "cell_type": "code",
   "execution_count": null,
   "metadata": {},
   "outputs": [],
   "source": [
    "VGG16_model.compile(loss='categorical_crossentropy', optimizer='rmsprop', metrics=['accuracy'])"
   ]
  },
  {
   "cell_type": "markdown",
   "metadata": {},
   "source": [
    "### Train the Model"
   ]
  },
  {
   "cell_type": "code",
   "execution_count": null,
   "metadata": {},
   "outputs": [],
   "source": [
    "checkpointer = ModelCheckpoint(filepath='saved_models/weights.best.VGG16.hdf5', \n",
    "                               verbose=1, save_best_only=True)\n",
    "\n",
    "VGG16_model.fit(train_VGG16, train_targets, \n",
    "          validation_data=(valid_VGG16, valid_targets),\n",
    "          epochs=20, batch_size=20, callbacks=[checkpointer], verbose=1)"
   ]
  },
  {
   "cell_type": "markdown",
   "metadata": {},
   "source": [
    "### Load the Model with the Best Validation Loss"
   ]
  },
  {
   "cell_type": "code",
   "execution_count": null,
   "metadata": {},
   "outputs": [],
   "source": [
    "VGG16_model.load_weights('saved_models/weights.best.VGG16.hdf5')"
   ]
  },
  {
   "cell_type": "markdown",
   "metadata": {},
   "source": [
    "### Test the Model\n",
    "\n",
    "Now, we can use the CNN to test how well it identifies breed within our test dataset of dog images.  We print the test accuracy below."
   ]
  },
  {
   "cell_type": "code",
   "execution_count": null,
   "metadata": {},
   "outputs": [],
   "source": [
    "# get index of predicted dog breed for each image in test set\n",
    "VGG16_predictions = [np.argmax(VGG16_model.predict(np.expand_dims(feature, axis=0))) for feature in test_VGG16]\n",
    "\n",
    "# report test accuracy\n",
    "test_accuracy = 100*np.sum(np.array(VGG16_predictions)==np.argmax(test_targets, axis=1))/len(VGG16_predictions)\n",
    "print('Test accuracy: %.4f%%' % test_accuracy)"
   ]
  },
  {
   "cell_type": "markdown",
   "metadata": {},
   "source": [
    "### Predict Dog Breed with the Model"
   ]
  },
  {
   "cell_type": "code",
   "execution_count": null,
   "metadata": {},
   "outputs": [],
   "source": [
    "from extract_bottleneck_features import *\n",
    "\n",
    "def VGG16_predict_breed(img_path):\n",
    "    # extract bottleneck features\n",
    "    bottleneck_feature = extract_VGG16(path_to_tensor(img_path))\n",
    "    # obtain predicted vector\n",
    "    predicted_vector = VGG16_model.predict(bottleneck_feature)\n",
    "    # return dog breed that is predicted by the model\n",
    "    return dog_names[np.argmax(predicted_vector)]"
   ]
  },
  {
   "cell_type": "markdown",
   "metadata": {},
   "source": [
    "---\n",
    "<a id='step5'></a>\n",
    "## Step 5: Create a CNN to Classify Dog Breeds (using Transfer Learning)\n",
    "\n",
    "You will now use transfer learning to create a CNN that can identify dog breed from images.  Your CNN must attain at least 60% accuracy on the test set.\n",
    "\n",
    "In Step 4, we used transfer learning to create a CNN using VGG-16 bottleneck features.  In this section, you must use the bottleneck features from a different pre-trained model.  To make things easier for you, we have pre-computed the features for all of the networks that are currently available in Keras:\n",
    "- [VGG-19](https://s3-us-west-1.amazonaws.com/udacity-aind/dog-project/DogVGG19Data.npz) bottleneck features\n",
    "- [ResNet-50](https://s3-us-west-1.amazonaws.com/udacity-aind/dog-project/DogResnet50Data.npz) bottleneck features\n",
    "- [Inception](https://s3-us-west-1.amazonaws.com/udacity-aind/dog-project/DogInceptionV3Data.npz) bottleneck features\n",
    "- [Xception](https://s3-us-west-1.amazonaws.com/udacity-aind/dog-project/DogXceptionData.npz) bottleneck features\n",
    "\n",
    "The files are encoded as such:\n",
    "\n",
    "    Dog{network}Data.npz\n",
    "    \n",
    "where `{network}`, in the above filename, can be one of `VGG19`, `Resnet50`, `InceptionV3`, or `Xception`.  Pick one of the above architectures, download the corresponding bottleneck features, and store the downloaded file in the `bottleneck_features/` folder in the repository.\n",
    "\n",
    "### (IMPLEMENTATION) Obtain Bottleneck Features\n",
    "\n",
    "In the code block below, extract the bottleneck features corresponding to the train, test, and validation sets by running the following:\n",
    "\n",
    "    bottleneck_features = np.load('bottleneck_features/Dog{network}Data.npz')\n",
    "    train_{network} = bottleneck_features['train']\n",
    "    valid_{network} = bottleneck_features['valid']\n",
    "    test_{network} = bottleneck_features['test']"
   ]
  },
  {
   "cell_type": "code",
   "execution_count": null,
   "metadata": {},
   "outputs": [],
   "source": [
    "### TODO: Obtain bottleneck features from another pre-trained CNN."
   ]
  },
  {
   "cell_type": "markdown",
   "metadata": {},
   "source": [
    "### (IMPLEMENTATION) Model Architecture\n",
    "\n",
    "Create a CNN to classify dog breed.  At the end of your code cell block, summarize the layers of your model by executing the line:\n",
    "    \n",
    "        <your model's name>.summary()\n",
    "   \n",
    "__Question 5:__ Outline the steps you took to get to your final CNN architecture and your reasoning at each step.  Describe why you think the architecture is suitable for the current problem.\n",
    "\n",
    "__Answer:__ \n",
    "\n"
   ]
  },
  {
   "cell_type": "code",
   "execution_count": null,
   "metadata": {},
   "outputs": [],
   "source": [
    "### TODO: Define your architecture."
   ]
  },
  {
   "cell_type": "markdown",
   "metadata": {},
   "source": [
    "### (IMPLEMENTATION) Compile the Model"
   ]
  },
  {
   "cell_type": "code",
   "execution_count": null,
   "metadata": {},
   "outputs": [],
   "source": [
    "### TODO: Compile the model."
   ]
  },
  {
   "cell_type": "markdown",
   "metadata": {},
   "source": [
    "### (IMPLEMENTATION) Train the Model\n",
    "\n",
    "Train your model in the code cell below.  Use model checkpointing to save the model that attains the best validation loss.  \n",
    "\n",
    "You are welcome to [augment the training data](https://blog.keras.io/building-powerful-image-classification-models-using-very-little-data.html), but this is not a requirement. "
   ]
  },
  {
   "cell_type": "code",
   "execution_count": null,
   "metadata": {},
   "outputs": [],
   "source": [
    "### TODO: Train the model."
   ]
  },
  {
   "cell_type": "markdown",
   "metadata": {},
   "source": [
    "### (IMPLEMENTATION) Load the Model with the Best Validation Loss"
   ]
  },
  {
   "cell_type": "code",
   "execution_count": null,
   "metadata": {},
   "outputs": [],
   "source": [
    "### TODO: Load the model weights with the best validation loss."
   ]
  },
  {
   "cell_type": "markdown",
   "metadata": {},
   "source": [
    "### (IMPLEMENTATION) Test the Model\n",
    "\n",
    "Try out your model on the test dataset of dog images. Ensure that your test accuracy is greater than 60%."
   ]
  },
  {
   "cell_type": "code",
   "execution_count": null,
   "metadata": {},
   "outputs": [],
   "source": [
    "### TODO: Calculate classification accuracy on the test dataset."
   ]
  },
  {
   "cell_type": "markdown",
   "metadata": {},
   "source": [
    "### (IMPLEMENTATION) Predict Dog Breed with the Model\n",
    "\n",
    "Write a function that takes an image path as input and returns the dog breed (`Affenpinscher`, `Afghan_hound`, etc) that is predicted by your model.  \n",
    "\n",
    "Similar to the analogous function in Step 5, your function should have three steps:\n",
    "1. Extract the bottleneck features corresponding to the chosen CNN model.\n",
    "2. Supply the bottleneck features as input to the model to return the predicted vector.  Note that the argmax of this prediction vector gives the index of the predicted dog breed.\n",
    "3. Use the `dog_names` array defined in Step 0 of this notebook to return the corresponding breed.\n",
    "\n",
    "The functions to extract the bottleneck features can be found in `extract_bottleneck_features.py`, and they have been imported in an earlier code cell.  To obtain the bottleneck features corresponding to your chosen CNN architecture, you need to use the function\n",
    "\n",
    "    extract_{network}\n",
    "    \n",
    "where `{network}`, in the above filename, should be one of `VGG19`, `Resnet50`, `InceptionV3`, or `Xception`."
   ]
  },
  {
   "cell_type": "code",
   "execution_count": null,
   "metadata": {},
   "outputs": [],
   "source": [
    "### TODO: Write a function that takes a path to an image as input\n",
    "### and returns the dog breed that is predicted by the model."
   ]
  },
  {
   "cell_type": "markdown",
   "metadata": {},
   "source": [
    "---\n",
    "<a id='step6'></a>\n",
    "## Step 6: Write your Algorithm\n",
    "\n",
    "Write an algorithm that accepts a file path to an image and first determines whether the image contains a human, dog, or neither.  Then,\n",
    "- if a __dog__ is detected in the image, return the predicted breed.\n",
    "- if a __human__ is detected in the image, return the resembling dog breed.\n",
    "- if __neither__ is detected in the image, provide output that indicates an error.\n",
    "\n",
    "You are welcome to write your own functions for detecting humans and dogs in images, but feel free to use the `face_detector` and `dog_detector` functions developed above.  You are __required__ to use your CNN from Step 5 to predict dog breed.  \n",
    "\n",
    "Some sample output for our algorithm is provided below, but feel free to design your own user experience!\n",
    "\n",
    "![Sample Human Output](images/sample_human_output.png)\n",
    "\n",
    "\n",
    "### (IMPLEMENTATION) Write your Algorithm"
   ]
  },
  {
   "cell_type": "code",
   "execution_count": null,
   "metadata": {},
   "outputs": [],
   "source": [
    "### TODO: Write your algorithm.\n",
    "### Feel free to use as many code cells as needed."
   ]
  },
  {
   "cell_type": "markdown",
   "metadata": {},
   "source": [
    "---\n",
    "<a id='step7'></a>\n",
    "## Step 7: Test Your Algorithm\n",
    "\n",
    "In this section, you will take your new algorithm for a spin!  What kind of dog does the algorithm think that __you__ look like?  If you have a dog, does it predict your dog's breed accurately?  If you have a cat, does it mistakenly think that your cat is a dog?\n",
    "\n",
    "### (IMPLEMENTATION) Test Your Algorithm on Sample Images!\n",
    "\n",
    "Test your algorithm at least six images on your computer.  Feel free to use any images you like.  Use at least two human and two dog images.  \n",
    "\n",
    "__Question 6:__ Is the output better than you expected :) ?  Or worse :( ?  Provide at least three possible points of improvement for your algorithm.\n",
    "\n",
    "__Answer:__ "
   ]
  },
  {
   "cell_type": "code",
   "execution_count": null,
   "metadata": {},
   "outputs": [],
   "source": [
    "## TODO: Execute your algorithm from Step 6 on\n",
    "## at least 6 images on your computer.\n",
    "## Feel free to use as many code cells as needed."
   ]
  }
 ],
 "metadata": {
  "anaconda-cloud": {},
  "kernelspec": {
   "display_name": "Python 3",
   "language": "python",
   "name": "python3"
  },
  "language_info": {
   "codemirror_mode": {
    "name": "ipython",
    "version": 3
   },
   "file_extension": ".py",
   "mimetype": "text/x-python",
   "name": "python",
   "nbconvert_exporter": "python",
   "pygments_lexer": "ipython3",
   "version": "3.6.3"
  }
 },
 "nbformat": 4,
 "nbformat_minor": 1
}
